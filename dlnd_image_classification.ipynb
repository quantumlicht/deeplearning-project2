{
 "cells": [
  {
   "cell_type": "markdown",
   "metadata": {
    "collapsed": true,
    "deletable": true,
    "editable": true
   },
   "source": [
    "# Image Classification\n",
    "In this project, you'll classify images from the [CIFAR-10 dataset](https://www.cs.toronto.edu/~kriz/cifar.html).  The dataset consists of airplanes, dogs, cats, and other objects. You'll preprocess the images, then train a convolutional neural network on all the samples. The images need to be normalized and the labels need to be one-hot encoded.  You'll get to apply what you learned and build a convolutional, max pooling, dropout, and fully connected layers.  At the end, you'll get to see your neural network's predictions on the sample images.\n",
    "## Get the Data\n",
    "Run the following cell to download the [CIFAR-10 dataset for python](https://www.cs.toronto.edu/~kriz/cifar-10-python.tar.gz)."
   ]
  },
  {
   "cell_type": "code",
   "execution_count": 1,
   "metadata": {
    "collapsed": false,
    "deletable": true,
    "editable": true
   },
   "outputs": [
    {
     "name": "stdout",
     "output_type": "stream",
     "text": [
      "All files found!\n"
     ]
    }
   ],
   "source": [
    "\"\"\"\n",
    "DON'T MODIFY ANYTHING IN THIS CELL THAT IS BELOW THIS LINE\n",
    "\"\"\"\n",
    "from urllib.request import urlretrieve\n",
    "from os.path import isfile, isdir\n",
    "from tqdm import tqdm\n",
    "import problem_unittests as tests\n",
    "import tarfile\n",
    "\n",
    "cifar10_dataset_folder_path = 'cifar-10-batches-py'\n",
    "\n",
    "class DLProgress(tqdm):\n",
    "    last_block = 0\n",
    "\n",
    "    def hook(self, block_num=1, block_size=1, total_size=None):\n",
    "        self.total = total_size\n",
    "        self.update((block_num - self.last_block) * block_size)\n",
    "        self.last_block = block_num\n",
    "\n",
    "if not isfile('cifar-10-python.tar.gz'):\n",
    "    with DLProgress(unit='B', unit_scale=True, miniters=1, desc='CIFAR-10 Dataset') as pbar:\n",
    "        urlretrieve(\n",
    "            'https://www.cs.toronto.edu/~kriz/cifar-10-python.tar.gz',\n",
    "            'cifar-10-python.tar.gz',\n",
    "            pbar.hook)\n",
    "\n",
    "if not isdir(cifar10_dataset_folder_path):\n",
    "    with tarfile.open('cifar-10-python.tar.gz') as tar:\n",
    "        tar.extractall()\n",
    "        tar.close()\n",
    "\n",
    "\n",
    "tests.test_folder_path(cifar10_dataset_folder_path)"
   ]
  },
  {
   "cell_type": "markdown",
   "metadata": {
    "deletable": true,
    "editable": true
   },
   "source": [
    "## Explore the Data\n",
    "The dataset is broken into batches to prevent your machine from running out of memory.  The CIFAR-10 dataset consists of 5 batches, named `data_batch_1`, `data_batch_2`, etc.. Each batch contains the labels and images that are one of the following:\n",
    "* airplane\n",
    "* automobile\n",
    "* bird\n",
    "* cat\n",
    "* deer\n",
    "* dog\n",
    "* frog\n",
    "* horse\n",
    "* ship\n",
    "* truck\n",
    "\n",
    "Understanding a dataset is part of making predictions on the data.  Play around with the code cell below by changing the `batch_id` and `sample_id`. The `batch_id` is the id for a batch (1-5). The `sample_id` is the id for a image and label pair in the batch.\n",
    "\n",
    "Ask yourself \"What are all possible labels?\", \"What is the range of values for the image data?\", \"Are the labels in order or random?\".  Answers to questions like these will help you preprocess the data and end up with better predictions."
   ]
  },
  {
   "cell_type": "code",
   "execution_count": 2,
   "metadata": {
    "collapsed": false,
    "deletable": true,
    "editable": true
   },
   "outputs": [
    {
     "name": "stdout",
     "output_type": "stream",
     "text": [
      "\n",
      "Stats of batch 1:\n",
      "Samples: 10000\n",
      "Label Counts: {0: 1005, 1: 974, 2: 1032, 3: 1016, 4: 999, 5: 937, 6: 1030, 7: 1001, 8: 1025, 9: 981}\n",
      "First 20 Labels: [6, 9, 9, 4, 1, 1, 2, 7, 8, 3, 4, 7, 7, 2, 9, 9, 9, 3, 2, 6]\n",
      "\n",
      "Example of Image 5:\n",
      "Image - Min Value: 0 Max Value: 252\n",
      "Image - Shape: (32, 32, 3)\n",
      "Label - Label Id: 1 Name: automobile\n"
     ]
    },
    {
     "data": {
      "image/png": "[encoded data removed]",
      "text/plain": [
       "<matplotlib.figure.Figure at 0x7fa61820dd68>"
      ]
     },
     "metadata": {
      "image/png": {
       "height": 250,
       "width": 253
      }
     },
     "output_type": "display_data"
    }
   ],
   "source": [
    "%matplotlib inline\n",
    "%config InlineBackend.figure_format = 'retina'\n",
    "\n",
    "import helper\n",
    "import numpy as np\n",
    "\n",
    "# Explore the dataset\n",
    "batch_id = 1\n",
    "sample_id = 5\n",
    "helper.display_stats(cifar10_dataset_folder_path, batch_id, sample_id)"
   ]
  },
  {
   "cell_type": "markdown",
   "metadata": {
    "deletable": true,
    "editable": true
   },
   "source": [
    "## Implement Preprocess Functions\n",
    "### Normalize\n",
    "In the cell below, implement the `normalize` function to take in image data, `x`, and return it as a normalized Numpy array. The values should be in the range of 0 to 1, inclusive.  The return object should be the same shape as `x`."
   ]
  },
  {
   "cell_type": "code",
   "execution_count": 3,
   "metadata": {
    "collapsed": false,
    "deletable": true,
    "editable": true
   },
   "outputs": [
    {
     "name": "stdout",
     "output_type": "stream",
     "text": [
      "Tests Passed\n"
     ]
    }
   ],
   "source": [
    "def normalize(x):\n",
    "    \"\"\"\n",
    "    Normalize a list of sample image data in the range of 0 to 1\n",
    "    : x: List of image data.  The image shape is (32, 32, 3)\n",
    "    : return: Numpy array of normalize data\n",
    "    \"\"\"\n",
    "    a = 0\n",
    "    b = 1\n",
    "    maxi = np.amax(x)\n",
    "    mini = np.amin(x)\n",
    "    # TODO: Implement Function\n",
    "    return a + (x - mini) * (b-a) / (maxi - mini)\n",
    "\n",
    "\n",
    "\"\"\"\n",
    "DON'T MODIFY ANYTHING IN THIS CELL THAT IS BELOW THIS LINE\n",
    "\"\"\"\n",
    "tests.test_normalize(normalize)"
   ]
  },
  {
   "cell_type": "markdown",
   "metadata": {
    "deletable": true,
    "editable": true
   },
   "source": [
    "### One-hot encode\n",
    "Just like the previous code cell, you'll be implementing a function for preprocessing.  This time, you'll implement the `one_hot_encode` function. The input, `x`, are a list of labels.  Implement the function to return the list of labels as One-Hot encoded Numpy array.  The possible values for labels are 0 to 9. The one-hot encoding function should return the same encoding for each value between each call to `one_hot_encode`.  Make sure to save the map of encodings outside the function.\n",
    "\n",
    "Hint: Don't reinvent the wheel."
   ]
  },
  {
   "cell_type": "code",
   "execution_count": 4,
   "metadata": {
    "collapsed": false,
    "deletable": true,
    "editable": true
   },
   "outputs": [
    {
     "name": "stdout",
     "output_type": "stream",
     "text": [
      "Tests Passed\n"
     ]
    }
   ],
   "source": [
    "def one_hot_encode(x):\n",
    "    \"\"\"\n",
    "    One hot encode a list of sample labels. Return a one-hot encoded vector for each label.\n",
    "    : x: List of sample Labels\n",
    "    : return: Numpy array of one-hot encoded labels\n",
    "    \"\"\"\n",
    "    x = np.array(x)\n",
    "    # TODO: Implement Function\n",
    "    b = np.zeros((x.size, 10))\n",
    "    b[np.arange(x.size),x] = 1\n",
    "    return b\n",
    "\n",
    "\n",
    "\"\"\"\n",
    "DON'T MODIFY ANYTHING IN THIS CELL THAT IS BELOW THIS LINE\n",
    "\"\"\"\n",
    "tests.test_one_hot_encode(one_hot_encode)"
   ]
  },
  {
   "cell_type": "markdown",
   "metadata": {
    "deletable": true,
    "editable": true
   },
   "source": [
    "### Randomize Data\n",
    "As you saw from exploring the data above, the order of the samples are randomized.  It doesn't hurt to randomize it again, but you don't need to for this dataset."
   ]
  },
  {
   "cell_type": "markdown",
   "metadata": {
    "deletable": true,
    "editable": true
   },
   "source": [
    "## Preprocess all the data and save it\n",
    "Running the code cell below will preprocess all the CIFAR-10 data and save it to file. The code below also uses 10% of the training data for validation."
   ]
  },
  {
   "cell_type": "code",
   "execution_count": 5,
   "metadata": {
    "collapsed": false,
    "deletable": true,
    "editable": true
   },
   "outputs": [],
   "source": [
    "\"\"\"\n",
    "DON'T MODIFY ANYTHING IN THIS CELL\n",
    "\"\"\"\n",
    "# Preprocess Training, Validation, and Testing Data\n",
    "helper.preprocess_and_save_data(cifar10_dataset_folder_path, normalize, one_hot_encode)"
   ]
  },
  {
   "cell_type": "markdown",
   "metadata": {
    "deletable": true,
    "editable": true
   },
   "source": [
    "# Check Point\n",
    "This is your first checkpoint.  If you ever decide to come back to this notebook or have to restart the notebook, you can start from here.  The preprocessed data has been saved to disk."
   ]
  },
  {
   "cell_type": "code",
   "execution_count": 5,
   "metadata": {
    "collapsed": true,
    "deletable": true,
    "editable": true
   },
   "outputs": [],
   "source": [
    "\"\"\"\n",
    "DON'T MODIFY ANYTHING IN THIS CELL\n",
    "\"\"\"\n",
    "import pickle\n",
    "import problem_unittests as tests\n",
    "import helper\n",
    "\n",
    "# Load the Preprocessed Validation data\n",
    "valid_features, valid_labels = pickle.load(open('preprocess_validation.p', mode='rb'))"
   ]
  },
  {
   "cell_type": "markdown",
   "metadata": {
    "deletable": true,
    "editable": true
   },
   "source": [
    "## Build the network\n",
    "For the neural network, you'll build each layer into a function.  Most of the code you've seen has been outside of functions. To test your code more thoroughly, we require that you put each layer in a function.  This allows us to give you better feedback and test for simple mistakes using our unittests before you submit your project.\n",
    "\n",
    "If you're finding it hard to dedicate enough time for this course a week, we've provided a small shortcut to this part of the project. In the next couple of problems, you'll have the option to use [TensorFlow Layers](https://www.tensorflow.org/api_docs/python/tf/layers) or [TensorFlow Layers (contrib)](https://www.tensorflow.org/api_guides/python/contrib.layers) to build each layer, except \"Convolutional & Max Pooling\" layer.  TF Layers is similar to Keras's and TFLearn's abstraction to layers, so it's easy to pickup.\n",
    "\n",
    "If you would like to get the most of this course, try to solve all the problems without TF Layers.  Let's begin!\n",
    "### Input\n",
    "The neural network needs to read the image data, one-hot encoded labels, and dropout keep probability. Implement the following functions\n",
    "* Implement `neural_net_image_input`\n",
    " * Return a [TF Placeholder](https://www.tensorflow.org/api_docs/python/tf/placeholder)\n",
    " * Set the shape using `image_shape` with batch size set to `None`.\n",
    " * Name the TensorFlow placeholder \"x\" using the TensorFlow `name` parameter in the [TF Placeholder](https://www.tensorflow.org/api_docs/python/tf/placeholder).\n",
    "* Implement `neural_net_label_input`\n",
    " * Return a [TF Placeholder](https://www.tensorflow.org/api_docs/python/tf/placeholder)\n",
    " * Set the shape using `n_classes` with batch size set to `None`.\n",
    " * Name the TensorFlow placeholder \"y\" using the TensorFlow `name` parameter in the [TF Placeholder](https://www.tensorflow.org/api_docs/python/tf/placeholder).\n",
    "* Implement `neural_net_keep_prob_input`\n",
    " * Return a [TF Placeholder](https://www.tensorflow.org/api_docs/python/tf/placeholder) for dropout keep probability.\n",
    " * Name the TensorFlow placeholder \"keep_prob\" using the TensorFlow `name` parameter in the [TF Placeholder](https://www.tensorflow.org/api_docs/python/tf/placeholder).\n",
    "\n",
    "These names will be used at the end of the project to load your saved model.\n",
    "\n",
    "Note: `None` for shapes in TensorFlow allow for a dynamic size."
   ]
  },
  {
   "cell_type": "code",
   "execution_count": 39,
   "metadata": {
    "collapsed": false,
    "deletable": true,
    "editable": true
   },
   "outputs": [
    {
     "name": "stdout",
     "output_type": "stream",
     "text": [
      "Image Input Tests Passed.\n",
      "Label Input Tests Passed.\n",
      "Keep Prob Tests Passed.\n"
     ]
    }
   ],
   "source": [
    "import tensorflow as tf\n",
    "def neural_net_image_input(image_shape):\n",
    "    \"\"\"\n",
    "    Return a Tensor for a bach of image input\n",
    "    : image_shape: Shape of the images\n",
    "    : return: Tensor for image input.\n",
    "    \"\"\"\n",
    "    shape = np.append([None],image_shape)\n",
    "    return tf.placeholder(tf.float32, shape=shape, name=\"x\")\n",
    "\n",
    "\n",
    "def neural_net_label_input(n_classes):\n",
    "    \"\"\"\n",
    "    Return a Tensor for a batch of label input\n",
    "    : n_classes: Number of classes\n",
    "    : return: Tensor for label input.\n",
    "    \"\"\"\n",
    "    # TODO: Implement Function\n",
    "    return tf.placeholder(tf.int32, shape=(None,n_classes), name=\"y\")\n",
    "\n",
    "\n",
    "def neural_net_keep_prob_input():\n",
    "    \"\"\"\n",
    "    Return a Tensor for keep probability\n",
    "    : return: Tensor for keep probability.\n",
    "    \"\"\"\n",
    "    # TODO: Implement Function\n",
    "    return tf.placeholder(tf.float32, name=\"keep_prob\")\n",
    "\n",
    "\n",
    "\"\"\"\n",
    "DON'T MODIFY ANYTHING IN THIS CELL THAT IS BELOW THIS LINE\n",
    "\"\"\"\n",
    "tf.reset_default_graph()\n",
    "tests.test_nn_image_inputs(neural_net_image_input)\n",
    "tests.test_nn_label_inputs(neural_net_label_input)\n",
    "tests.test_nn_keep_prob_inputs(neural_net_keep_prob_input)"
   ]
  },
  {
   "cell_type": "markdown",
   "metadata": {
    "deletable": true,
    "editable": true
   },
   "source": [
    "### Convolution and Max Pooling Layer\n",
    "Convolution layers have a lot of success with images. For this code cell, you should implement the function `conv2d_maxpool` to apply convolution then max pooling:\n",
    "* Create the weight and bias using `conv_ksize`, `conv_num_outputs` and the shape of `x_tensor`.\n",
    "* Apply a convolution to `x_tensor` using weight and `conv_strides`.\n",
    " * We recommend you use same padding, but you're welcome to use any padding\n",
    "* Add bias\n",
    "* Add a nonlinear activation to the convolution.\n",
    "* Apply Max Pooling using `pool_ksize` and `pool_strides`.\n",
    " * We recommend you use same padding, but you're welcome to use any padding.\n",
    "\n",
    "Note: You **can't** use [TensorFlow Layers](https://www.tensorflow.org/api_docs/python/tf/layers) or [TensorFlow Layers (contrib)](https://www.tensorflow.org/api_guides/python/contrib.layers) for this layer.  You're free to use any TensorFlow package for all the other layers."
   ]
  },
  {
   "cell_type": "code",
   "execution_count": 40,
   "metadata": {
    "collapsed": false,
    "deletable": true,
    "editable": true
   },
   "outputs": [
    {
     "name": "stdout",
     "output_type": "stream",
     "text": [
      "Tests Passed\n"
     ]
    }
   ],
   "source": [
    "def conv2d_maxpool(x_tensor, conv_num_outputs, conv_ksize, conv_strides, pool_ksize, pool_strides):\n",
    "    \"\"\"\n",
    "    Apply convolution then max pooling to x_tensor\n",
    "    :param x_tensor: TensorFlow Tensor\n",
    "    :param conv_num_outputs: Number of outputs for the convolutional layer\n",
    "    :param conv_strides: Stride 2-D Tuple for convolution\n",
    "    :param pool_ksize: kernal size 2-D Tuple for pool\n",
    "    :param pool_strides: Stride 2-D Tuple for pool\n",
    "    : return: A tensor that represents convolution and max pooling of x_tensor\n",
    "    \"\"\"\n",
    "    #print(x_tensor, conv_num_outputs, conv_ksize, conv_strides, pool_ksize, pool_strides)\n",
    "\n",
    "    # Setup\n",
    "    size = x_tensor.get_shape().as_list()\n",
    "    weight_shape = conv_ksize + (size[3],) +  (conv_num_outputs,)\n",
    "    weight = tf.Variable(tf.truncated_normal(shape=weight_shape, stddev=0.1), name='filter')\n",
    "    # Convolution\n",
    "    \n",
    "    conv_strides = (1,) + conv_strides + (1,)\n",
    "    conv_layer = tf.nn.conv2d(input = x_tensor, filter=weight, strides=conv_strides, padding='SAME', name='conv')\n",
    "\n",
    "    # Bias\n",
    "    bias = tf.Variable(tf.constant(0.1, shape=[conv_num_outputs]))\n",
    "    pre_activation = tf.nn.bias_add(conv_layer, bias)\n",
    "    \n",
    "    # ReLU\n",
    "    activation = tf.nn.relu(pre_activation)\n",
    "    \n",
    "    # Max Pooling - Non overlapping regions\n",
    "    pool_ksize = (1,) + pool_ksize + (1,)\n",
    "    pool_strides = (1,) + pool_strides + (1,)\n",
    "    \n",
    "    pooling = tf.nn.max_pool(activation, pool_strides, pool_ksize, padding='SAME')\n",
    "    \n",
    "    return pooling \n",
    "\n",
    "\n",
    "\"\"\"\n",
    "DON'T MODIFY ANYTHING IN THIS CELL THAT IS BELOW THIS LINE\n",
    "\"\"\"\n",
    "tests.test_con_pool(conv2d_maxpool)"
   ]
  },
  {
   "cell_type": "markdown",
   "metadata": {
    "deletable": true,
    "editable": true
   },
   "source": [
    "### Flatten Layer\n",
    "Implement the `flatten` function to change the dimension of `x_tensor` from a 4-D tensor to a 2-D tensor.  The output should be the shape (*Batch Size*, *Flattened Image Size*). You can use [TensorFlow Layers](https://www.tensorflow.org/api_docs/python/tf/layers) or [TensorFlow Layers (contrib)](https://www.tensorflow.org/api_guides/python/contrib.layers) for this layer."
   ]
  },
  {
   "cell_type": "code",
   "execution_count": 41,
   "metadata": {
    "collapsed": false,
    "deletable": true,
    "editable": true
   },
   "outputs": [
    {
     "name": "stdout",
     "output_type": "stream",
     "text": [
      "Tests Passed\n"
     ]
    }
   ],
   "source": [
    "def flatten(x_tensor):\n",
    "    \"\"\"\n",
    "    Flatten x_tensor to (Batch Size, Flattened Image Size)\n",
    "    : x_tensor: A tensor of size (Batch Size, ...), where ... are the image dimensions.\n",
    "    : return: A tensor of size (Batch Size, Flattened Image Size).\n",
    "    \"\"\"\n",
    "    # TODO: Implement Function\n",
    "    num_features = x_tensor.get_shape()[1:].num_elements()\n",
    "    return tf.reshape(x_tensor, [-1, num_features])\n",
    "\n",
    "\n",
    "\"\"\"\n",
    "DON'T MODIFY ANYTHING IN THIS CELL THAT IS BELOW THIS LINE\n",
    "\"\"\"\n",
    "tests.test_flatten(flatten)"
   ]
  },
  {
   "cell_type": "markdown",
   "metadata": {
    "deletable": true,
    "editable": true
   },
   "source": [
    "### Fully-Connected Layer\n",
    "Implement the `fully_conn` function to apply a fully connected layer to `x_tensor` with the shape (*Batch Size*, *num_outputs*). You can use [TensorFlow Layers](https://www.tensorflow.org/api_docs/python/tf/layers) or [TensorFlow Layers (contrib)](https://www.tensorflow.org/api_guides/python/contrib.layers) for this layer."
   ]
  },
  {
   "cell_type": "code",
   "execution_count": 42,
   "metadata": {
    "collapsed": false,
    "deletable": true,
    "editable": true
   },
   "outputs": [
    {
     "name": "stdout",
     "output_type": "stream",
     "text": [
      "Tests Passed\n"
     ]
    }
   ],
   "source": [
    "def fully_conn(x_tensor, num_outputs):\n",
    "    \"\"\"\n",
    "    Apply a fully connected layer to x_tensor using weight and bias\n",
    "    : x_tensor: A 2-D tensor where the first dimension is batch size.\n",
    "    : num_outputs: The number of output that the new tensor should be.\n",
    "    : return: A 2-D tensor where the second dimension is num_outputs.\n",
    "    \"\"\"\n",
    "    # TODO: Implement Function\n",
    "    weights = tf.Variable(tf.truncated_normal(shape=[x_tensor.get_shape().as_list()[1], num_outputs], stddev=0.1))\n",
    "    biases = tf.Variable(tf.constant(0.1, shape=[num_outputs]))\n",
    "    layer = tf.add(tf.matmul(x_tensor, weights),biases)\n",
    "    return tf.nn.relu(layer)\n",
    "    #return tf.contrib.layers.fully_connected(x_tensor, num_outputs)\n",
    "\n",
    "\n",
    "\"\"\"\n",
    "DON'T MODIFY ANYTHING IN THIS CELL THAT IS BELOW THIS LINE\n",
    "\"\"\"\n",
    "tests.test_fully_conn(fully_conn)"
   ]
  },
  {
   "cell_type": "markdown",
   "metadata": {
    "deletable": true,
    "editable": true
   },
   "source": [
    "### Output Layer\n",
    "Implement the `output` function to apply a fully connected layer to `x_tensor` with the shape (*Batch Size*, *num_outputs*). You can use [TensorFlow Layers](https://www.tensorflow.org/api_docs/python/tf/layers) or [TensorFlow Layers (contrib)](https://www.tensorflow.org/api_guides/python/contrib.layers) for this layer.\n",
    "\n",
    "Note: Activation, softmax, or cross entropy shouldn't be applied to this."
   ]
  },
  {
   "cell_type": "code",
   "execution_count": 43,
   "metadata": {
    "collapsed": false,
    "deletable": true,
    "editable": true
   },
   "outputs": [
    {
     "name": "stdout",
     "output_type": "stream",
     "text": [
      "Tests Passed\n"
     ]
    }
   ],
   "source": [
    "def output(x_tensor, num_outputs):\n",
    "    \"\"\"\n",
    "    Apply a output layer to x_tensor using weight and bias\n",
    "    : x_tensor: A 2-D tensor where the first dimension is batch size.\n",
    "    : num_outputs: The number of output that the new tensor should be.\n",
    "    : return: A 2-D tensor where the second dimension is num_outputs.\n",
    "    \"\"\"\n",
    "    #return tf.contrib.layers.fully_connected(x_tensor, num_outputs)\n",
    "    weights = tf.Variable(tf.truncated_normal(shape=[x_tensor.get_shape().as_list()[1], num_outputs], stddev=0.1))\n",
    "    biases = tf.Variable(tf.constant(0.1, shape=[num_outputs]))\n",
    "    layer = tf.add(tf.matmul(x_tensor, weights),biases)\n",
    "    return layer\n",
    "\n",
    "\n",
    "\n",
    "\n",
    "\"\"\"\n",
    "DON'T MODIFY ANYTHING IN THIS CELL THAT IS BELOW THIS LINE\n",
    "\"\"\"\n",
    "tests.test_output(output)"
   ]
  },
  {
   "cell_type": "markdown",
   "metadata": {
    "deletable": true,
    "editable": true
   },
   "source": [
    "### Create Convolutional Model\n",
    "Implement the function `conv_net` to create a convolutional neural network model. The function takes in a batch of images, `x`, and outputs logits.  Use the layers you created above to create this model:\n",
    "\n",
    "* Apply 1, 2, or 3 Convolution and Max Pool layers\n",
    "* Apply a Flatten Layer\n",
    "* Apply 1, 2, or 3 Fully Connected Layers\n",
    "* Apply an Output Layer\n",
    "* Return the output\n",
    "* Apply [TensorFlow's Dropout](https://www.tensorflow.org/api_docs/python/tf/nn/dropout) to one or more layers in the model using `keep_prob`. "
   ]
  },
  {
   "cell_type": "code",
   "execution_count": 44,
   "metadata": {
    "collapsed": false,
    "deletable": true,
    "editable": true
   },
   "outputs": [
    {
     "name": "stdout",
     "output_type": "stream",
     "text": [
      "input (?, 32, 32, 3)\n",
      "conv1 (?, 16, 16, 32)\n",
      "conv2 (?, 16, 16, 32)\n",
      "flat (?, 4096)\n",
      "conn1 (?, 1024)\n",
      "out (?, 10)\n",
      "input (?, 32, 32, 3)\n",
      "conv1 (?, 16, 16, 32)\n",
      "conv2 (?, 16, 16, 32)\n",
      "flat (?, 4096)\n",
      "conn1 (?, 1024)\n",
      "out (?, 10)\n",
      "Neural Network Built!\n"
     ]
    }
   ],
   "source": [
    "def conv_net(x, keep_prob):\n",
    "    \"\"\"\n",
    "    Create a convolutional neural network model\n",
    "    : x: Placeholder tensor that holds image data.\n",
    "    : keep_prob: Placeholder tensor that hold dropout keep probability.\n",
    "    : return: Tensor that represents logits\n",
    "    \"\"\"\n",
    "    # TODO: Apply 1, 2, or 3 Convolution and Max Pool layers\n",
    "    #    Play around with different number of outputs, kernel size and stride\n",
    "    # Function Definition from Above:\n",
    "    #    conv2d_maxpool(x_tensor, conv_num_outputs, conv_ksize, conv_strides, pool_ksize, pool_strides)\n",
    "    print('input', x.get_shape())\n",
    "    conv1 = conv2d_maxpool(x, 32, (2,2), (1,1), (2,2), (2,2))\n",
    "    print('conv1', conv1.get_shape())\n",
    "    #conv1 = tf.nn.dropout(conv1, keep_prob)\n",
    "    \n",
    "    conv2 = conv2d_maxpool(conv1, 64, (2,2), (1,1), (2,2), (2,2))\n",
    "    print('conv2', conv1.get_shape())\n",
    "    #conv2 = tf.nn.dropout(conv2, keep_prob)\n",
    "    \n",
    "    #conv3 = conv2d_maxpool(conv1, 128, (2,2), (2,2), (2,2), (2,2))\n",
    "    #print('conv3', conv2.get_shape())\n",
    "    \n",
    "    \n",
    "    # TODO: Apply a Flatten Layer\n",
    "    # Function Definition from Above:\n",
    "    #   flatten(x_tensor)\n",
    "    flat = flatten(conv2)\n",
    "    print('flat', flat.get_shape())\n",
    "    \n",
    "\n",
    "    # TODO: Apply 1, 2, or 3 Fully Connected Layers\n",
    "    # Play around with different number of outputs\n",
    "    # Function Definition from Above:\n",
    "    # fully_conn(x_tensor, num_outputs)\n",
    "    conn = fully_conn(flat, 1024)\n",
    "    conn = tf.nn.dropout(conn, keep_prob)\n",
    "    print('conn1', conn.get_shape()) \n",
    "    \n",
    "    #conn2 = fully_conn(conn1, 1024)\n",
    "    #conn2 = tf.nn.dropout(conn2, keep_prob)\n",
    "    #print('conn2', conn2.get_shape()) \n",
    "    \n",
    "    #conn3 = fully_conn(conn1, 1024)\n",
    "    #print('conn3', conn3.get_shape()) \n",
    "        \n",
    "    # TODO: Apply an Output Layer\n",
    "    #    Set this to the number of classes\n",
    "    # Function Definition from Above:\n",
    "    #   output(x_tensor, num_outputs)\n",
    "    out = output(conn, 10)\n",
    "    print('out', out.get_shape())\n",
    "    # TODO: return output\n",
    "    return out\n",
    "\n",
    "\n",
    "\"\"\"\n",
    "DON'T MODIFY ANYTHING IN THIS CELL THAT IS BELOW THIS LINE\n",
    "\"\"\"\n",
    "\n",
    "##############################\n",
    "## Build the Neural Network ##\n",
    "##############################\n",
    "\n",
    "# Remove previous weights, bias, inputs, etc..\n",
    "tf.reset_default_graph()\n",
    "\n",
    "# Inputs\n",
    "x = neural_net_image_input((32, 32, 3))\n",
    "y = neural_net_label_input(10)\n",
    "keep_prob = neural_net_keep_prob_input()\n",
    "\n",
    "# Model\n",
    "logits = conv_net(x, keep_prob)\n",
    "\n",
    "# Name logits Tensor, so that is can be loaded from disk after training\n",
    "logits = tf.identity(logits, name='logits')\n",
    "\n",
    "# Loss and Optimizer\n",
    "cost = tf.reduce_mean(tf.nn.softmax_cross_entropy_with_logits(logits=logits, labels=y))\n",
    "optimizer = tf.train.AdamOptimizer().minimize(cost)\n",
    "\n",
    "# Accuracy\n",
    "correct_pred = tf.equal(tf.argmax(logits, 1), tf.argmax(y, 1))\n",
    "accuracy = tf.reduce_mean(tf.cast(correct_pred, tf.float32), name='accuracy')\n",
    "\n",
    "tests.test_conv_net(conv_net)"
   ]
  },
  {
   "cell_type": "markdown",
   "metadata": {
    "deletable": true,
    "editable": true
   },
   "source": [
    "## Train the Neural Network\n",
    "### Single Optimization\n",
    "Implement the function `train_neural_network` to do a single optimization.  The optimization should use `optimizer` to optimize in `session` with a `feed_dict` of the following:\n",
    "* `x` for image input\n",
    "* `y` for labels\n",
    "* `keep_prob` for keep probability for dropout\n",
    "\n",
    "This function will be called for each batch, so `tf.global_variables_initializer()` has already been called.\n",
    "\n",
    "Note: Nothing needs to be returned. This function is only optimizing the neural network."
   ]
  },
  {
   "cell_type": "code",
   "execution_count": 45,
   "metadata": {
    "collapsed": false,
    "deletable": true,
    "editable": true
   },
   "outputs": [
    {
     "name": "stdout",
     "output_type": "stream",
     "text": [
      "Tests Passed\n"
     ]
    }
   ],
   "source": [
    "def train_neural_network(session, optimizer, keep_probability, feature_batch, label_batch):\n",
    "    \"\"\"\n",
    "    Optimize the session on a batch of images and labels\n",
    "    : session: Current TensorFlow session\n",
    "    : optimizer: TensorFlow optimizer function\n",
    "    : keep_probability: keep probability\n",
    "    : feature_batch: Batch of Numpy image data\n",
    "    : label_batch: Batch of Numpy label data\n",
    "    \"\"\"\n",
    "    # TODO: Implement Function\n",
    "    session.run(optimizer, feed_dict={x: feature_batch, y:label_batch, keep_prob:keep_probability})\n",
    "\"\"\"\n",
    "DON'T MODIFY ANYTHING IN THIS CELL THAT IS BELOW THIS LINE\n",
    "\"\"\"\n",
    "tests.test_train_nn(train_neural_network)"
   ]
  },
  {
   "cell_type": "markdown",
   "metadata": {
    "deletable": true,
    "editable": true
   },
   "source": [
    "### Show Stats\n",
    "Implement the function `print_stats` to print loss and validation accuracy.  Use the global variables `valid_features` and `valid_labels` to calculate validation accuracy.  Use a keep probability of `1.0` to calculate the loss and validation accuracy."
   ]
  },
  {
   "cell_type": "code",
   "execution_count": 46,
   "metadata": {
    "collapsed": false,
    "deletable": true,
    "editable": true
   },
   "outputs": [],
   "source": [
    "def print_stats(session, feature_batch, label_batch, cost, accuracy):\n",
    "    \"\"\"\n",
    "    Print information about loss and validation accuracy\n",
    "    : session: Current TensorFlow session\n",
    "    : feature_batch: Batch of Numpy image data\n",
    "    : label_batch: Batch of Numpy label data\n",
    "    : cost: TensorFlow cost function\n",
    "    : accuracy: TensorFlow accuracy function\n",
    "    \"\"\"\n",
    "    # TODO: Implement Function\n",
    "    loss, acc = sess.run([cost, accuracy], feed_dict={\n",
    "                x: feature_batch,\n",
    "                y: label_batch,\n",
    "                keep_prob: 1.})\n",
    "    \n",
    "    valid_acc = sess.run(accuracy, feed_dict={\n",
    "                x: valid_features,\n",
    "                y: valid_labels,\n",
    "                keep_prob: 1.})\n",
    "    print('Training Loss: {:>.10f} training Accuracy: {:>.10f} validation acc: {:.6f}'.format(loss, acc, valid_acc))\n"
   ]
  },
  {
   "cell_type": "markdown",
   "metadata": {
    "deletable": true,
    "editable": true
   },
   "source": [
    "### Hyperparameters\n",
    "Tune the following parameters:\n",
    "* Set `epochs` to the number of iterations until the network stops learning or start overfitting\n",
    "* Set `batch_size` to the highest number that your machine has memory for.  Most people set them to common sizes of memory:\n",
    " * 64\n",
    " * 128\n",
    " * 256\n",
    " * ...\n",
    "* Set `keep_probability` to the probability of keeping a node using dropout"
   ]
  },
  {
   "cell_type": "code",
   "execution_count": 47,
   "metadata": {
    "collapsed": true,
    "deletable": true,
    "editable": true
   },
   "outputs": [],
   "source": [
    "# TODO: Tune Parameters\n",
    "epochs = 40\n",
    "batch_size = 128\n",
    "keep_probability = 0.5"
   ]
  },
  {
   "cell_type": "markdown",
   "metadata": {
    "deletable": true,
    "editable": true
   },
   "source": [
    "### Train on a Single CIFAR-10 Batch\n",
    "Instead of training the neural network on all the CIFAR-10 batches of data, let's use a single batch. This should save time while you iterate on the model to get a better accuracy.  Once the final validation accuracy is 50% or greater, run the model on all the data in the next section."
   ]
  },
  {
   "cell_type": "code",
   "execution_count": 48,
   "metadata": {
    "collapsed": false,
    "deletable": true,
    "editable": true
   },
   "outputs": [
    {
     "name": "stdout",
     "output_type": "stream",
     "text": [
      "Checking the Training on a Single Batch...\n",
      "Epoch  1, CIFAR-10 Batch 1:  Training Loss: 2.0094816685 training Accuracy: 0.3250000179 validation acc: 0.358000\n",
      "Epoch  2, CIFAR-10 Batch 1:  Training Loss: 1.7472603321 training Accuracy: 0.4500000179 validation acc: 0.426800\n",
      "Epoch  3, CIFAR-10 Batch 1:  Training Loss: 1.5175167322 training Accuracy: 0.5500000119 validation acc: 0.464200\n",
      "Epoch  4, CIFAR-10 Batch 1:  Training Loss: 1.3680025339 training Accuracy: 0.5250000358 validation acc: 0.483400\n",
      "Epoch  5, CIFAR-10 Batch 1:  Training Loss: 1.2176684141 training Accuracy: 0.6000000238 validation acc: 0.509400\n",
      "Epoch  6, CIFAR-10 Batch 1:  Training Loss: 1.0904657841 training Accuracy: 0.7000000477 validation acc: 0.507400\n",
      "Epoch  7, CIFAR-10 Batch 1:  Training Loss: 0.9838789105 training Accuracy: 0.7500000000 validation acc: 0.522200\n",
      "Epoch  8, CIFAR-10 Batch 1:  Training Loss: 0.8696488738 training Accuracy: 0.7999999523 validation acc: 0.536400\n",
      "Epoch  9, CIFAR-10 Batch 1:  Training Loss: 0.7816356421 training Accuracy: 0.8500000238 validation acc: 0.540800\n",
      "Epoch 10, CIFAR-10 Batch 1:  Training Loss: 0.6558722258 training Accuracy: 0.8500000238 validation acc: 0.544200\n",
      "Epoch 11, CIFAR-10 Batch 1:  Training Loss: 0.6026777029 training Accuracy: 0.8750000000 validation acc: 0.554800\n",
      "Epoch 12, CIFAR-10 Batch 1:  Training Loss: 0.4887394309 training Accuracy: 0.9000000358 validation acc: 0.567600\n",
      "Epoch 13, CIFAR-10 Batch 1:  Training Loss: 0.4110406339 training Accuracy: 0.9250000119 validation acc: 0.571600\n",
      "Epoch 14, CIFAR-10 Batch 1:  Training Loss: 0.3396342099 training Accuracy: 0.9499999881 validation acc: 0.566800\n",
      "Epoch 15, CIFAR-10 Batch 1:  Training Loss: 0.2793275416 training Accuracy: 0.9749999642 validation acc: 0.574200\n",
      "Epoch 16, CIFAR-10 Batch 1:  Training Loss: 0.2464008629 training Accuracy: 0.9749999642 validation acc: 0.579400\n",
      "Epoch 17, CIFAR-10 Batch 1:  Training Loss: 0.1919791698 training Accuracy: 0.9749999642 validation acc: 0.588200\n",
      "Epoch 18, CIFAR-10 Batch 1:  Training Loss: 0.1587026864 training Accuracy: 1.0000000000 validation acc: 0.586000\n",
      "Epoch 19, CIFAR-10 Batch 1:  Training Loss: 0.1149766594 training Accuracy: 1.0000000000 validation acc: 0.589400\n",
      "Epoch 20, CIFAR-10 Batch 1:  Training Loss: 0.0908014029 training Accuracy: 1.0000000000 validation acc: 0.589000\n",
      "Epoch 21, CIFAR-10 Batch 1:  Training Loss: 0.0723576695 training Accuracy: 1.0000000000 validation acc: 0.597400\n",
      "Epoch 22, CIFAR-10 Batch 1:  Training Loss: 0.0618606620 training Accuracy: 1.0000000000 validation acc: 0.595800\n",
      "Epoch 23, CIFAR-10 Batch 1:  Training Loss: 0.0410229117 training Accuracy: 1.0000000000 validation acc: 0.602200\n",
      "Epoch 24, CIFAR-10 Batch 1:  Training Loss: 0.0390212722 training Accuracy: 1.0000000000 validation acc: 0.595200\n",
      "Epoch 25, CIFAR-10 Batch 1:  Training Loss: 0.0314790681 training Accuracy: 1.0000000000 validation acc: 0.602600\n",
      "Epoch 26, CIFAR-10 Batch 1:  Training Loss: 0.0269406661 training Accuracy: 1.0000000000 validation acc: 0.596400\n",
      "Epoch 27, CIFAR-10 Batch 1:  Training Loss: 0.0200205836 training Accuracy: 1.0000000000 validation acc: 0.592000\n",
      "Epoch 28, CIFAR-10 Batch 1:  Training Loss: 0.0159730874 training Accuracy: 1.0000000000 validation acc: 0.587200\n",
      "Epoch 29, CIFAR-10 Batch 1:  Training Loss: 0.0136358896 training Accuracy: 1.0000000000 validation acc: 0.587400\n",
      "Epoch 30, CIFAR-10 Batch 1:  Training Loss: 0.0128556592 training Accuracy: 1.0000000000 validation acc: 0.596800\n",
      "Epoch 31, CIFAR-10 Batch 1:  Training Loss: 0.0103685018 training Accuracy: 1.0000000000 validation acc: 0.596800\n",
      "Epoch 32, CIFAR-10 Batch 1:  Training Loss: 0.0047606668 training Accuracy: 1.0000000000 validation acc: 0.599800\n",
      "Epoch 33, CIFAR-10 Batch 1:  Training Loss: 0.0057531931 training Accuracy: 1.0000000000 validation acc: 0.592000\n",
      "Epoch 34, CIFAR-10 Batch 1:  Training Loss: 0.0040345867 training Accuracy: 1.0000000000 validation acc: 0.601800\n",
      "Epoch 35, CIFAR-10 Batch 1:  Training Loss: 0.0042656334 training Accuracy: 1.0000000000 validation acc: 0.597200\n",
      "Epoch 36, CIFAR-10 Batch 1:  Training Loss: 0.0056052054 training Accuracy: 1.0000000000 validation acc: 0.597000\n",
      "Epoch 37, CIFAR-10 Batch 1:  Training Loss: 0.0050270334 training Accuracy: 1.0000000000 validation acc: 0.600800\n",
      "Epoch 38, CIFAR-10 Batch 1:  Training Loss: 0.0033827142 training Accuracy: 1.0000000000 validation acc: 0.600200\n",
      "Epoch 39, CIFAR-10 Batch 1:  Training Loss: 0.0040053562 training Accuracy: 1.0000000000 validation acc: 0.598200\n",
      "Epoch 40, CIFAR-10 Batch 1:  Training Loss: 0.0043683862 training Accuracy: 1.0000000000 validation acc: 0.595600\n"
     ]
    }
   ],
   "source": [
    "\"\"\"\n",
    "DON'T MODIFY ANYTHING IN THIS CELL\n",
    "\"\"\"\n",
    "print('Checking the Training on a Single Batch...')\n",
    "with tf.Session() as sess:\n",
    "    # Initializing the variables\n",
    "    sess.run(tf.global_variables_initializer())\n",
    "    # Training cycle\n",
    "    for epoch in range(epochs):\n",
    "        batch_i = 1\n",
    "        for batch_features, batch_labels in helper.load_preprocess_training_batch(batch_i, batch_size):\n",
    "            train_neural_network(sess, optimizer, keep_probability, batch_features, batch_labels)\n",
    "        print('Epoch {:>2}, CIFAR-10 Batch {}:  '.format(epoch + 1, batch_i), end='')\n",
    "        print_stats(sess, batch_features, batch_labels, cost, accuracy)"
   ]
  },
  {
   "cell_type": "markdown",
   "metadata": {
    "deletable": true,
    "editable": true
   },
   "source": [
    "### Fully Train the Model\n",
    "Now that you got a good accuracy with a single CIFAR-10 batch, try it with all five batches."
   ]
  },
  {
   "cell_type": "code",
   "execution_count": 49,
   "metadata": {
    "collapsed": false,
    "deletable": true,
    "editable": true
   },
   "outputs": [
    {
     "name": "stdout",
     "output_type": "stream",
     "text": [
      "Training...\n",
      "Epoch  1, CIFAR-10 Batch 1:  Training Loss: 1.9756283760 training Accuracy: 0.3000000119 validation acc: 0.355000\n",
      "Epoch  1, CIFAR-10 Batch 2:  Training Loss: 1.5828813314 training Accuracy: 0.5500000119 validation acc: 0.434400\n",
      "Epoch  1, CIFAR-10 Batch 3:  Training Loss: 1.3288760185 training Accuracy: 0.5250000358 validation acc: 0.472200\n",
      "Epoch  1, CIFAR-10 Batch 4:  Training Loss: 1.3638236523 training Accuracy: 0.5250000358 validation acc: 0.488200\n",
      "Epoch  1, CIFAR-10 Batch 5:  Training Loss: 1.4328789711 training Accuracy: 0.5749999881 validation acc: 0.519000\n",
      "Epoch  2, CIFAR-10 Batch 1:  Training Loss: 1.4962068796 training Accuracy: 0.4500000179 validation acc: 0.514800\n",
      "Epoch  2, CIFAR-10 Batch 2:  Training Loss: 1.1266494989 training Accuracy: 0.6250000000 validation acc: 0.545200\n",
      "Epoch  2, CIFAR-10 Batch 3:  Training Loss: 0.9467594028 training Accuracy: 0.6750000119 validation acc: 0.544000\n",
      "Epoch  2, CIFAR-10 Batch 4:  Training Loss: 1.0693168640 training Accuracy: 0.6250000000 validation acc: 0.555600\n",
      "Epoch  2, CIFAR-10 Batch 5:  Training Loss: 1.1006731987 training Accuracy: 0.6750000119 validation acc: 0.585800\n",
      "Epoch  3, CIFAR-10 Batch 1:  Training Loss: 1.2813327312 training Accuracy: 0.6499999762 validation acc: 0.570000\n",
      "Epoch  3, CIFAR-10 Batch 2:  Training Loss: 0.9772666693 training Accuracy: 0.6749999523 validation acc: 0.590600\n",
      "Epoch  3, CIFAR-10 Batch 3:  Training Loss: 0.7247682810 training Accuracy: 0.7500000000 validation acc: 0.602200\n",
      "Epoch  3, CIFAR-10 Batch 4:  Training Loss: 0.8999208212 training Accuracy: 0.6999999881 validation acc: 0.610000\n",
      "Epoch  3, CIFAR-10 Batch 5:  Training Loss: 0.9165868759 training Accuracy: 0.6749999523 validation acc: 0.622000\n",
      "Epoch  4, CIFAR-10 Batch 1:  Training Loss: 1.0518293381 training Accuracy: 0.7000000477 validation acc: 0.614600\n",
      "Epoch  4, CIFAR-10 Batch 2:  Training Loss: 0.7772909403 training Accuracy: 0.7750000358 validation acc: 0.622200\n",
      "Epoch  4, CIFAR-10 Batch 3:  Training Loss: 0.5850284100 training Accuracy: 0.8500000834 validation acc: 0.629600\n",
      "Epoch  4, CIFAR-10 Batch 4:  Training Loss: 0.7208528519 training Accuracy: 0.7500000000 validation acc: 0.629800\n",
      "Epoch  4, CIFAR-10 Batch 5:  Training Loss: 0.7314599156 training Accuracy: 0.7500000000 validation acc: 0.636600\n",
      "Epoch  5, CIFAR-10 Batch 1:  Training Loss: 0.8344755173 training Accuracy: 0.8000000715 validation acc: 0.632600\n",
      "Epoch  5, CIFAR-10 Batch 2:  Training Loss: 0.6259236932 training Accuracy: 0.8000000119 validation acc: 0.643200\n",
      "Epoch  5, CIFAR-10 Batch 3:  Training Loss: 0.4887785614 training Accuracy: 0.8500000834 validation acc: 0.652000\n",
      "Epoch  5, CIFAR-10 Batch 4:  Training Loss: 0.6391683221 training Accuracy: 0.7999999523 validation acc: 0.649800\n",
      "Epoch  5, CIFAR-10 Batch 5:  Training Loss: 0.6052591801 training Accuracy: 0.7999999523 validation acc: 0.656200\n",
      "Epoch  6, CIFAR-10 Batch 1:  Training Loss: 0.7015271187 training Accuracy: 0.8250000477 validation acc: 0.662600\n",
      "Epoch  6, CIFAR-10 Batch 2:  Training Loss: 0.4886890054 training Accuracy: 0.8500000834 validation acc: 0.668200\n",
      "Epoch  6, CIFAR-10 Batch 3:  Training Loss: 0.3755431473 training Accuracy: 0.9250000119 validation acc: 0.664200\n",
      "Epoch  6, CIFAR-10 Batch 4:  Training Loss: 0.5128166676 training Accuracy: 0.8750000596 validation acc: 0.656200\n",
      "Epoch  6, CIFAR-10 Batch 5:  Training Loss: 0.4278533459 training Accuracy: 0.8999999762 validation acc: 0.677400\n",
      "Epoch  7, CIFAR-10 Batch 1:  Training Loss: 0.6066311598 training Accuracy: 0.8250000477 validation acc: 0.670000\n",
      "Epoch  7, CIFAR-10 Batch 2:  Training Loss: 0.3463903964 training Accuracy: 0.9250000119 validation acc: 0.674400\n",
      "Epoch  7, CIFAR-10 Batch 3:  Training Loss: 0.3037429154 training Accuracy: 0.9499999881 validation acc: 0.680600\n",
      "Epoch  7, CIFAR-10 Batch 4:  Training Loss: 0.3821272850 training Accuracy: 0.9499999881 validation acc: 0.676000\n",
      "Epoch  7, CIFAR-10 Batch 5:  Training Loss: 0.3459742665 training Accuracy: 0.9499999881 validation acc: 0.675600\n",
      "Epoch  8, CIFAR-10 Batch 1:  Training Loss: 0.4386232495 training Accuracy: 0.8500000238 validation acc: 0.688600\n",
      "Epoch  8, CIFAR-10 Batch 2:  Training Loss: 0.2723658383 training Accuracy: 0.9499999881 validation acc: 0.682000\n",
      "Epoch  8, CIFAR-10 Batch 3:  Training Loss: 0.2525814772 training Accuracy: 1.0000000000 validation acc: 0.693400\n",
      "Epoch  8, CIFAR-10 Batch 4:  Training Loss: 0.2943553030 training Accuracy: 0.9250000119 validation acc: 0.683600\n",
      "Epoch  8, CIFAR-10 Batch 5:  Training Loss: 0.2610205412 training Accuracy: 0.9499999881 validation acc: 0.678400\n",
      "Epoch  9, CIFAR-10 Batch 1:  Training Loss: 0.3736640215 training Accuracy: 0.8750000000 validation acc: 0.691000\n",
      "Epoch  9, CIFAR-10 Batch 2:  Training Loss: 0.1803639829 training Accuracy: 1.0000000000 validation acc: 0.690800\n",
      "Epoch  9, CIFAR-10 Batch 3:  Training Loss: 0.2013290226 training Accuracy: 1.0000000000 validation acc: 0.699000\n",
      "Epoch  9, CIFAR-10 Batch 4:  Training Loss: 0.2225332409 training Accuracy: 0.9499999881 validation acc: 0.701800\n",
      "Epoch  9, CIFAR-10 Batch 5:  Training Loss: 0.1853953898 training Accuracy: 0.9749999642 validation acc: 0.686200\n",
      "Epoch 10, CIFAR-10 Batch 1:  Training Loss: 0.2628613114 training Accuracy: 0.9250000119 validation acc: 0.704000\n",
      "Epoch 10, CIFAR-10 Batch 2:  Training Loss: 0.1257090867 training Accuracy: 1.0000000000 validation acc: 0.704400\n",
      "Epoch 10, CIFAR-10 Batch 3:  Training Loss: 0.1528119445 training Accuracy: 1.0000000000 validation acc: 0.694200\n",
      "Epoch 10, CIFAR-10 Batch 4:  Training Loss: 0.1603450775 training Accuracy: 0.9749999642 validation acc: 0.711600\n",
      "Epoch 10, CIFAR-10 Batch 5:  Training Loss: 0.1618047655 training Accuracy: 0.9749999642 validation acc: 0.678400\n",
      "Epoch 11, CIFAR-10 Batch 1:  Training Loss: 0.1336929202 training Accuracy: 1.0000000000 validation acc: 0.707000\n",
      "Epoch 11, CIFAR-10 Batch 2:  Training Loss: 0.0747189149 training Accuracy: 1.0000000000 validation acc: 0.709600\n",
      "Epoch 11, CIFAR-10 Batch 3:  Training Loss: 0.1016342044 training Accuracy: 1.0000000000 validation acc: 0.696600\n",
      "Epoch 11, CIFAR-10 Batch 4:  Training Loss: 0.1000929326 training Accuracy: 1.0000000000 validation acc: 0.705600\n",
      "Epoch 11, CIFAR-10 Batch 5:  Training Loss: 0.1217253059 training Accuracy: 1.0000000000 validation acc: 0.697400\n",
      "Epoch 12, CIFAR-10 Batch 1:  Training Loss: 0.1154600978 training Accuracy: 1.0000000000 validation acc: 0.707800\n",
      "Epoch 12, CIFAR-10 Batch 2:  Training Loss: 0.0642057881 training Accuracy: 1.0000000000 validation acc: 0.711200\n",
      "Epoch 12, CIFAR-10 Batch 3:  Training Loss: 0.0908603370 training Accuracy: 1.0000000000 validation acc: 0.685800\n",
      "Epoch 12, CIFAR-10 Batch 4:  Training Loss: 0.0776136667 training Accuracy: 1.0000000000 validation acc: 0.699600\n",
      "Epoch 12, CIFAR-10 Batch 5:  Training Loss: 0.0529801957 training Accuracy: 1.0000000000 validation acc: 0.699600\n",
      "Epoch 13, CIFAR-10 Batch 1:  Training Loss: 0.0861458257 training Accuracy: 1.0000000000 validation acc: 0.708600\n",
      "Epoch 13, CIFAR-10 Batch 2:  Training Loss: 0.0401527807 training Accuracy: 1.0000000000 validation acc: 0.709800\n",
      "Epoch 13, CIFAR-10 Batch 3:  Training Loss: 0.0727243125 training Accuracy: 1.0000000000 validation acc: 0.699800\n",
      "Epoch 13, CIFAR-10 Batch 4:  Training Loss: 0.0775139332 training Accuracy: 1.0000000000 validation acc: 0.697000\n",
      "Epoch 13, CIFAR-10 Batch 5:  Training Loss: 0.0330891684 training Accuracy: 1.0000000000 validation acc: 0.713600\n",
      "Epoch 14, CIFAR-10 Batch 1:  Training Loss: 0.0527862534 training Accuracy: 1.0000000000 validation acc: 0.706200\n",
      "Epoch 14, CIFAR-10 Batch 2:  Training Loss: 0.0298525207 training Accuracy: 1.0000000000 validation acc: 0.711600\n",
      "Epoch 14, CIFAR-10 Batch 3:  Training Loss: 0.0464090183 training Accuracy: 1.0000000000 validation acc: 0.688600\n",
      "Epoch 14, CIFAR-10 Batch 4:  Training Loss: 0.0488797054 training Accuracy: 1.0000000000 validation acc: 0.702200\n",
      "Epoch 14, CIFAR-10 Batch 5:  Training Loss: 0.0196125340 training Accuracy: 1.0000000000 validation acc: 0.714600\n",
      "Epoch 15, CIFAR-10 Batch 1:  Training Loss: 0.0486195199 training Accuracy: 1.0000000000 validation acc: 0.703400\n",
      "Epoch 15, CIFAR-10 Batch 2:  Training Loss: 0.0279827192 training Accuracy: 1.0000000000 validation acc: 0.708200\n",
      "Epoch 15, CIFAR-10 Batch 3:  Training Loss: 0.0305450838 training Accuracy: 1.0000000000 validation acc: 0.705200\n",
      "Epoch 15, CIFAR-10 Batch 4:  Training Loss: 0.0312440265 training Accuracy: 1.0000000000 validation acc: 0.717400\n",
      "Epoch 15, CIFAR-10 Batch 5:  Training Loss: 0.0216985643 training Accuracy: 1.0000000000 validation acc: 0.718400\n",
      "Epoch 16, CIFAR-10 Batch 1:  Training Loss: 0.0236683134 training Accuracy: 1.0000000000 validation acc: 0.715200\n",
      "Epoch 16, CIFAR-10 Batch 2:  Training Loss: 0.0367874429 training Accuracy: 1.0000000000 validation acc: 0.703200\n",
      "Epoch 16, CIFAR-10 Batch 3:  Training Loss: 0.0205053352 training Accuracy: 1.0000000000 validation acc: 0.696800\n",
      "Epoch 16, CIFAR-10 Batch 4:  Training Loss: 0.0264462177 training Accuracy: 1.0000000000 validation acc: 0.713600\n",
      "Epoch 16, CIFAR-10 Batch 5:  Training Loss: 0.0131091671 training Accuracy: 1.0000000000 validation acc: 0.717600\n",
      "Epoch 17, CIFAR-10 Batch 1:  Training Loss: 0.0182642080 training Accuracy: 1.0000000000 validation acc: 0.715800\n",
      "Epoch 17, CIFAR-10 Batch 2:  Training Loss: 0.0154080587 training Accuracy: 1.0000000000 validation acc: 0.709000\n",
      "Epoch 17, CIFAR-10 Batch 3:  Training Loss: 0.0217746664 training Accuracy: 1.0000000000 validation acc: 0.697800\n",
      "Epoch 17, CIFAR-10 Batch 4:  Training Loss: 0.0116246697 training Accuracy: 1.0000000000 validation acc: 0.722000\n",
      "Epoch 17, CIFAR-10 Batch 5:  Training Loss: 0.0164217409 training Accuracy: 1.0000000000 validation acc: 0.716000\n",
      "Epoch 18, CIFAR-10 Batch 1:  Training Loss: 0.0161327925 training Accuracy: 1.0000000000 validation acc: 0.714600\n",
      "Epoch 18, CIFAR-10 Batch 2:  Training Loss: 0.0136672370 training Accuracy: 1.0000000000 validation acc: 0.706800\n",
      "Epoch 18, CIFAR-10 Batch 3:  Training Loss: 0.0113026071 training Accuracy: 1.0000000000 validation acc: 0.696600\n",
      "Epoch 18, CIFAR-10 Batch 4:  Training Loss: 0.0264765490 training Accuracy: 1.0000000000 validation acc: 0.709000\n",
      "Epoch 18, CIFAR-10 Batch 5:  Training Loss: 0.0139126806 training Accuracy: 1.0000000000 validation acc: 0.702000\n",
      "Epoch 19, CIFAR-10 Batch 1:  Training Loss: 0.0155145181 training Accuracy: 1.0000000000 validation acc: 0.701000\n",
      "Epoch 19, CIFAR-10 Batch 2:  Training Loss: 0.0232566670 training Accuracy: 1.0000000000 validation acc: 0.714800\n",
      "Epoch 19, CIFAR-10 Batch 3:  Training Loss: 0.0131594092 training Accuracy: 1.0000000000 validation acc: 0.709400\n",
      "Epoch 19, CIFAR-10 Batch 4:  Training Loss: 0.0092492010 training Accuracy: 1.0000000000 validation acc: 0.721600\n",
      "Epoch 19, CIFAR-10 Batch 5:  Training Loss: 0.0055431663 training Accuracy: 1.0000000000 validation acc: 0.719800\n",
      "Epoch 20, CIFAR-10 Batch 1:  Training Loss: 0.0124473255 training Accuracy: 1.0000000000 validation acc: 0.714400\n",
      "Epoch 20, CIFAR-10 Batch 2:  Training Loss: 0.0046811681 training Accuracy: 1.0000000000 validation acc: 0.706000\n",
      "Epoch 20, CIFAR-10 Batch 3:  Training Loss: 0.0243417080 training Accuracy: 1.0000000000 validation acc: 0.717600\n",
      "Epoch 20, CIFAR-10 Batch 4:  Training Loss: 0.0076186853 training Accuracy: 1.0000000000 validation acc: 0.723400\n",
      "Epoch 20, CIFAR-10 Batch 5:  Training Loss: 0.0044724913 training Accuracy: 1.0000000000 validation acc: 0.705600\n",
      "Epoch 21, CIFAR-10 Batch 1:  Training Loss: 0.0073811342 training Accuracy: 1.0000000000 validation acc: 0.712400\n",
      "Epoch 21, CIFAR-10 Batch 2:  Training Loss: 0.0022798553 training Accuracy: 1.0000000000 validation acc: 0.704000\n",
      "Epoch 21, CIFAR-10 Batch 3:  Training Loss: 0.0178351905 training Accuracy: 1.0000000000 validation acc: 0.720400\n",
      "Epoch 21, CIFAR-10 Batch 4:  Training Loss: 0.0089329453 training Accuracy: 1.0000000000 validation acc: 0.711200\n",
      "Epoch 21, CIFAR-10 Batch 5:  Training Loss: 0.0039005519 training Accuracy: 1.0000000000 validation acc: 0.719000\n",
      "Epoch 22, CIFAR-10 Batch 1:  Training Loss: 0.0062850434 training Accuracy: 1.0000000000 validation acc: 0.707600\n",
      "Epoch 22, CIFAR-10 Batch 2:  Training Loss: 0.0033664159 training Accuracy: 1.0000000000 validation acc: 0.710600\n",
      "Epoch 22, CIFAR-10 Batch 3:  Training Loss: 0.0042251609 training Accuracy: 1.0000000000 validation acc: 0.712400\n",
      "Epoch 22, CIFAR-10 Batch 4:  Training Loss: 0.0055362293 training Accuracy: 1.0000000000 validation acc: 0.715200\n",
      "Epoch 22, CIFAR-10 Batch 5:  Training Loss: 0.0021399981 training Accuracy: 1.0000000000 validation acc: 0.724200\n",
      "Epoch 23, CIFAR-10 Batch 1:  Training Loss: 0.0020149837 training Accuracy: 1.0000000000 validation acc: 0.711800\n",
      "Epoch 23, CIFAR-10 Batch 2:  Training Loss: 0.0020758454 training Accuracy: 1.0000000000 validation acc: 0.711600\n",
      "Epoch 23, CIFAR-10 Batch 3:  Training Loss: 0.0032711593 training Accuracy: 1.0000000000 validation acc: 0.712800\n",
      "Epoch 23, CIFAR-10 Batch 4:  Training Loss: 0.0060048448 training Accuracy: 1.0000000000 validation acc: 0.720200\n",
      "Epoch 23, CIFAR-10 Batch 5:  Training Loss: 0.0030853257 training Accuracy: 1.0000000000 validation acc: 0.720600\n",
      "Epoch 24, CIFAR-10 Batch 1:  Training Loss: 0.0040810192 training Accuracy: 1.0000000000 validation acc: 0.711600\n",
      "Epoch 24, CIFAR-10 Batch 2:  Training Loss: 0.0020010641 training Accuracy: 1.0000000000 validation acc: 0.711000\n",
      "Epoch 24, CIFAR-10 Batch 3:  Training Loss: 0.0027129124 training Accuracy: 1.0000000000 validation acc: 0.721800\n",
      "Epoch 24, CIFAR-10 Batch 4:  Training Loss: 0.0028498983 training Accuracy: 1.0000000000 validation acc: 0.715200\n",
      "Epoch 24, CIFAR-10 Batch 5:  Training Loss: 0.0083735520 training Accuracy: 1.0000000000 validation acc: 0.714800\n",
      "Epoch 25, CIFAR-10 Batch 1:  Training Loss: 0.0013410313 training Accuracy: 1.0000000000 validation acc: 0.712600\n",
      "Epoch 25, CIFAR-10 Batch 2:  Training Loss: 0.0023598436 training Accuracy: 1.0000000000 validation acc: 0.708400\n",
      "Epoch 25, CIFAR-10 Batch 3:  Training Loss: 0.0067555890 training Accuracy: 1.0000000000 validation acc: 0.716800\n",
      "Epoch 25, CIFAR-10 Batch 4:  Training Loss: 0.0035588909 training Accuracy: 1.0000000000 validation acc: 0.717600\n",
      "Epoch 25, CIFAR-10 Batch 5:  Training Loss: 0.0036341667 training Accuracy: 1.0000000000 validation acc: 0.713400\n",
      "Epoch 26, CIFAR-10 Batch 1:  Training Loss: 0.0009218095 training Accuracy: 1.0000000000 validation acc: 0.718400\n",
      "Epoch 26, CIFAR-10 Batch 2:  Training Loss: 0.0014506201 training Accuracy: 1.0000000000 validation acc: 0.714000\n",
      "Epoch 26, CIFAR-10 Batch 3:  Training Loss: 0.0035689292 training Accuracy: 1.0000000000 validation acc: 0.716800\n",
      "Epoch 26, CIFAR-10 Batch 4:  Training Loss: 0.0046287831 training Accuracy: 1.0000000000 validation acc: 0.715400\n",
      "Epoch 26, CIFAR-10 Batch 5:  Training Loss: 0.0040957946 training Accuracy: 1.0000000000 validation acc: 0.716200\n",
      "Epoch 27, CIFAR-10 Batch 1:  Training Loss: 0.0015992321 training Accuracy: 1.0000000000 validation acc: 0.724200\n",
      "Epoch 27, CIFAR-10 Batch 2:  Training Loss: 0.0019698110 training Accuracy: 1.0000000000 validation acc: 0.707400\n",
      "Epoch 27, CIFAR-10 Batch 3:  Training Loss: 0.0021636314 training Accuracy: 1.0000000000 validation acc: 0.717800\n",
      "Epoch 27, CIFAR-10 Batch 4:  Training Loss: 0.0016427902 training Accuracy: 1.0000000000 validation acc: 0.723400\n",
      "Epoch 27, CIFAR-10 Batch 5:  Training Loss: 0.0016955552 training Accuracy: 1.0000000000 validation acc: 0.720200\n",
      "Epoch 28, CIFAR-10 Batch 1:  Training Loss: 0.0019191013 training Accuracy: 1.0000000000 validation acc: 0.718400\n",
      "Epoch 28, CIFAR-10 Batch 2:  Training Loss: 0.0025358524 training Accuracy: 1.0000000000 validation acc: 0.702400\n",
      "Epoch 28, CIFAR-10 Batch 3:  Training Loss: 0.0011587006 training Accuracy: 1.0000000000 validation acc: 0.723400\n",
      "Epoch 28, CIFAR-10 Batch 4:  Training Loss: 0.0016171229 training Accuracy: 1.0000000000 validation acc: 0.720400\n",
      "Epoch 28, CIFAR-10 Batch 5:  Training Loss: 0.0013605119 training Accuracy: 1.0000000000 validation acc: 0.730600\n",
      "Epoch 29, CIFAR-10 Batch 1:  Training Loss: 0.0037036920 training Accuracy: 1.0000000000 validation acc: 0.716400\n",
      "Epoch 29, CIFAR-10 Batch 2:  Training Loss: 0.0010708667 training Accuracy: 1.0000000000 validation acc: 0.711800\n",
      "Epoch 29, CIFAR-10 Batch 3:  Training Loss: 0.0021082307 training Accuracy: 1.0000000000 validation acc: 0.727800\n",
      "Epoch 29, CIFAR-10 Batch 4:  Training Loss: 0.0049444186 training Accuracy: 1.0000000000 validation acc: 0.718800\n",
      "Epoch 29, CIFAR-10 Batch 5:  Training Loss: 0.0014575766 training Accuracy: 1.0000000000 validation acc: 0.724000\n",
      "Epoch 30, CIFAR-10 Batch 1:  Training Loss: 0.0016434180 training Accuracy: 1.0000000000 validation acc: 0.714200\n",
      "Epoch 30, CIFAR-10 Batch 2:  Training Loss: 0.0007176014 training Accuracy: 1.0000000000 validation acc: 0.707200\n",
      "Epoch 30, CIFAR-10 Batch 3:  Training Loss: 0.0011989872 training Accuracy: 1.0000000000 validation acc: 0.727800\n",
      "Epoch 30, CIFAR-10 Batch 4:  Training Loss: 0.0023550924 training Accuracy: 1.0000000000 validation acc: 0.720600\n",
      "Epoch 30, CIFAR-10 Batch 5:  Training Loss: 0.0010107083 training Accuracy: 1.0000000000 validation acc: 0.726800\n",
      "Epoch 31, CIFAR-10 Batch 1:  Training Loss: 0.0020888718 training Accuracy: 1.0000000000 validation acc: 0.716200\n",
      "Epoch 31, CIFAR-10 Batch 2:  Training Loss: 0.0018455270 training Accuracy: 1.0000000000 validation acc: 0.717600\n",
      "Epoch 31, CIFAR-10 Batch 3:  Training Loss: 0.0023491632 training Accuracy: 1.0000000000 validation acc: 0.725200\n",
      "Epoch 31, CIFAR-10 Batch 4:  Training Loss: 0.0023627710 training Accuracy: 1.0000000000 validation acc: 0.714000\n",
      "Epoch 31, CIFAR-10 Batch 5:  Training Loss: 0.0004875408 training Accuracy: 1.0000000000 validation acc: 0.718200\n",
      "Epoch 32, CIFAR-10 Batch 1:  Training Loss: 0.0009692947 training Accuracy: 1.0000000000 validation acc: 0.712800\n",
      "Epoch 32, CIFAR-10 Batch 2:  Training Loss: 0.0007055808 training Accuracy: 1.0000000000 validation acc: 0.720600\n",
      "Epoch 32, CIFAR-10 Batch 3:  Training Loss: 0.0012354197 training Accuracy: 1.0000000000 validation acc: 0.723200\n",
      "Epoch 32, CIFAR-10 Batch 4:  Training Loss: 0.0009026901 training Accuracy: 1.0000000000 validation acc: 0.720600\n",
      "Epoch 32, CIFAR-10 Batch 5:  Training Loss: 0.0006389864 training Accuracy: 1.0000000000 validation acc: 0.714400\n",
      "Epoch 33, CIFAR-10 Batch 1:  Training Loss: 0.0009714114 training Accuracy: 1.0000000000 validation acc: 0.719200\n",
      "Epoch 33, CIFAR-10 Batch 2:  Training Loss: 0.0009030959 training Accuracy: 1.0000000000 validation acc: 0.722400\n",
      "Epoch 33, CIFAR-10 Batch 3:  Training Loss: 0.0029209591 training Accuracy: 1.0000000000 validation acc: 0.710200\n",
      "Epoch 33, CIFAR-10 Batch 4:  Training Loss: 0.0015657616 training Accuracy: 1.0000000000 validation acc: 0.726200\n",
      "Epoch 33, CIFAR-10 Batch 5:  Training Loss: 0.0004634443 training Accuracy: 1.0000000000 validation acc: 0.725400\n",
      "Epoch 34, CIFAR-10 Batch 1:  Training Loss: 0.0006880359 training Accuracy: 1.0000000000 validation acc: 0.709200\n",
      "Epoch 34, CIFAR-10 Batch 2:  Training Loss: 0.0004436112 training Accuracy: 1.0000000000 validation acc: 0.722600\n",
      "Epoch 34, CIFAR-10 Batch 3:  Training Loss: 0.0027198503 training Accuracy: 1.0000000000 validation acc: 0.720600\n",
      "Epoch 34, CIFAR-10 Batch 4:  Training Loss: 0.0007183225 training Accuracy: 1.0000000000 validation acc: 0.713400\n",
      "Epoch 34, CIFAR-10 Batch 5:  Training Loss: 0.0004969154 training Accuracy: 1.0000000000 validation acc: 0.723600\n",
      "Epoch 35, CIFAR-10 Batch 1:  Training Loss: 0.0012934274 training Accuracy: 1.0000000000 validation acc: 0.714400\n",
      "Epoch 35, CIFAR-10 Batch 2:  Training Loss: 0.0008762190 training Accuracy: 1.0000000000 validation acc: 0.722200\n",
      "Epoch 35, CIFAR-10 Batch 3:  Training Loss: 0.0041070404 training Accuracy: 1.0000000000 validation acc: 0.717400\n",
      "Epoch 35, CIFAR-10 Batch 4:  Training Loss: 0.0004501150 training Accuracy: 1.0000000000 validation acc: 0.719600\n",
      "Epoch 35, CIFAR-10 Batch 5:  Training Loss: 0.0018061582 training Accuracy: 1.0000000000 validation acc: 0.720800\n",
      "Epoch 36, CIFAR-10 Batch 1:  Training Loss: 0.0006209843 training Accuracy: 1.0000000000 validation acc: 0.717600\n",
      "Epoch 36, CIFAR-10 Batch 2:  Training Loss: 0.0014773470 training Accuracy: 1.0000000000 validation acc: 0.721800\n",
      "Epoch 36, CIFAR-10 Batch 3:  Training Loss: 0.0005567333 training Accuracy: 1.0000000000 validation acc: 0.728400\n",
      "Epoch 36, CIFAR-10 Batch 4:  Training Loss: 0.0002199241 training Accuracy: 1.0000000000 validation acc: 0.720800\n",
      "Epoch 36, CIFAR-10 Batch 5:  Training Loss: 0.0002116004 training Accuracy: 1.0000000000 validation acc: 0.720800\n",
      "Epoch 37, CIFAR-10 Batch 1:  Training Loss: 0.0012115717 training Accuracy: 1.0000000000 validation acc: 0.714400\n",
      "Epoch 37, CIFAR-10 Batch 2:  Training Loss: 0.0010713035 training Accuracy: 1.0000000000 validation acc: 0.719200\n",
      "Epoch 37, CIFAR-10 Batch 3:  Training Loss: 0.0003745826 training Accuracy: 1.0000000000 validation acc: 0.720600\n",
      "Epoch 37, CIFAR-10 Batch 4:  Training Loss: 0.0003530329 training Accuracy: 1.0000000000 validation acc: 0.722400\n",
      "Epoch 37, CIFAR-10 Batch 5:  Training Loss: 0.0007292514 training Accuracy: 1.0000000000 validation acc: 0.725600\n",
      "Epoch 38, CIFAR-10 Batch 1:  Training Loss: 0.0007500855 training Accuracy: 1.0000000000 validation acc: 0.715000\n",
      "Epoch 38, CIFAR-10 Batch 2:  Training Loss: 0.0007987009 training Accuracy: 1.0000000000 validation acc: 0.719600\n",
      "Epoch 38, CIFAR-10 Batch 3:  Training Loss: 0.0003154255 training Accuracy: 1.0000000000 validation acc: 0.724200\n",
      "Epoch 38, CIFAR-10 Batch 4:  Training Loss: 0.0007085602 training Accuracy: 1.0000000000 validation acc: 0.722000\n",
      "Epoch 38, CIFAR-10 Batch 5:  Training Loss: 0.0002457898 training Accuracy: 1.0000000000 validation acc: 0.717800\n",
      "Epoch 39, CIFAR-10 Batch 1:  Training Loss: 0.0004566222 training Accuracy: 1.0000000000 validation acc: 0.722000\n",
      "Epoch 39, CIFAR-10 Batch 2:  Training Loss: 0.0029933061 training Accuracy: 1.0000000000 validation acc: 0.721400\n",
      "Epoch 39, CIFAR-10 Batch 3:  Training Loss: 0.0011456627 training Accuracy: 1.0000000000 validation acc: 0.728000\n",
      "Epoch 39, CIFAR-10 Batch 4:  Training Loss: 0.0002909146 training Accuracy: 1.0000000000 validation acc: 0.729000\n",
      "Epoch 39, CIFAR-10 Batch 5:  Training Loss: 0.0004569088 training Accuracy: 1.0000000000 validation acc: 0.724800\n",
      "Epoch 40, CIFAR-10 Batch 1:  Training Loss: 0.0004537118 training Accuracy: 1.0000000000 validation acc: 0.719800\n",
      "Epoch 40, CIFAR-10 Batch 2:  Training Loss: 0.0005934104 training Accuracy: 1.0000000000 validation acc: 0.710600\n",
      "Epoch 40, CIFAR-10 Batch 3:  Training Loss: 0.0009129298 training Accuracy: 1.0000000000 validation acc: 0.725800\n",
      "Epoch 40, CIFAR-10 Batch 4:  Training Loss: 0.0006447557 training Accuracy: 1.0000000000 validation acc: 0.716200\n",
      "Epoch 40, CIFAR-10 Batch 5:  Training Loss: 0.0001141171 training Accuracy: 1.0000000000 validation acc: 0.720200\n"
     ]
    }
   ],
   "source": [
    "\"\"\"\n",
    "DON'T MODIFY ANYTHING IN THIS CELL\n",
    "\"\"\"\n",
    "save_model_path = './image_classification'\n",
    "\n",
    "print('Training...')\n",
    "with tf.Session() as sess:\n",
    "\n",
    "    # Initializing the variables\n",
    "    sess.run(tf.global_variables_initializer())\n",
    "    \n",
    "    # Training cycle\n",
    "    for epoch in range(epochs):\n",
    "        # Loop over all batches\n",
    "        n_batches = 5\n",
    "        for batch_i in range(1, n_batches + 1):\n",
    "            for batch_features, batch_labels in helper.load_preprocess_training_batch(batch_i, batch_size):\n",
    "                train_neural_network(sess, optimizer, keep_probability, batch_features, batch_labels)\n",
    "            print('Epoch {:>2}, CIFAR-10 Batch {}:  '.format(epoch + 1, batch_i), end='')\n",
    "            print_stats(sess, batch_features, batch_labels, cost, accuracy)\n",
    "            \n",
    "        # Save Model\n",
    "    saver = tf.train.Saver()\n",
    "    save_path = saver.save(sess, save_model_path)"
   ]
  },
  {
   "cell_type": "markdown",
   "metadata": {
    "deletable": true,
    "editable": true
   },
   "source": [
    "# Checkpoint\n",
    "The model has been saved to disk.\n",
    "## Test Model\n",
    "Test your model against the test dataset.  This will be your final accuracy. You should have an accuracy greater than 50%. If you don't, keep tweaking the model architecture and parameters."
   ]
  },
  {
   "cell_type": "code",
   "execution_count": 50,
   "metadata": {
    "collapsed": false,
    "deletable": true,
    "editable": true
   },
   "outputs": [
    {
     "name": "stdout",
     "output_type": "stream",
     "text": [
      "Testing Accuracy: 0.7141020569620253\n",
      "\n"
     ]
    },
    {
     "data": {
      "image/png": "[encoded data removed]",
      "text/plain": [
       "<matplotlib.figure.Figure at 0x7fa5b49c8828>"
      ]
     },
     "metadata": {
      "image/png": {
       "height": 319,
       "width": 355
      }
     },
     "output_type": "display_data"
    }
   ],
   "source": [
    "\"\"\"\n",
    "DON'T MODIFY ANYTHING IN THIS CELL\n",
    "\"\"\"\n",
    "%matplotlib inline\n",
    "%config InlineBackend.figure_format = 'retina'\n",
    "\n",
    "import tensorflow as tf\n",
    "import pickle\n",
    "import helper\n",
    "import random\n",
    "\n",
    "# Set batch size if not already set\n",
    "try:\n",
    "    if batch_size:\n",
    "        pass\n",
    "except NameError:\n",
    "    batch_size = 64\n",
    "\n",
    "save_model_path = './image_classification'\n",
    "n_samples = 4\n",
    "top_n_predictions = 3\n",
    "\n",
    "def test_model():\n",
    "    \"\"\"\n",
    "    Test the saved model against the test dataset\n",
    "    \"\"\"\n",
    "\n",
    "    test_features, test_labels = pickle.load(open('preprocess_training.p', mode='rb'))\n",
    "    loaded_graph = tf.Graph()\n",
    "\n",
    "    with tf.Session(graph=loaded_graph) as sess:\n",
    "        # Load model\n",
    "        loader = tf.train.import_meta_graph(save_model_path + '.meta')\n",
    "        loader.restore(sess, save_model_path)\n",
    "\n",
    "        # Get Tensors from loaded model\n",
    "        loaded_x = loaded_graph.get_tensor_by_name('x:0')\n",
    "        loaded_y = loaded_graph.get_tensor_by_name('y:0')\n",
    "        loaded_keep_prob = loaded_graph.get_tensor_by_name('keep_prob:0')\n",
    "        loaded_logits = loaded_graph.get_tensor_by_name('logits:0')\n",
    "        loaded_acc = loaded_graph.get_tensor_by_name('accuracy:0')\n",
    "        \n",
    "        # Get accuracy in batches for memory limitations\n",
    "        test_batch_acc_total = 0\n",
    "        test_batch_count = 0\n",
    "        \n",
    "        for train_feature_batch, train_label_batch in helper.batch_features_labels(test_features, test_labels, batch_size):\n",
    "            test_batch_acc_total += sess.run(\n",
    "                loaded_acc,\n",
    "                feed_dict={loaded_x: train_feature_batch, loaded_y: train_label_batch, loaded_keep_prob: 1.0})\n",
    "            test_batch_count += 1\n",
    "\n",
    "        print('Testing Accuracy: {}\\n'.format(test_batch_acc_total/test_batch_count))\n",
    "\n",
    "        # Print Random Samples\n",
    "        random_test_features, random_test_labels = tuple(zip(*random.sample(list(zip(test_features, test_labels)), n_samples)))\n",
    "        random_test_predictions = sess.run(\n",
    "            tf.nn.top_k(tf.nn.softmax(loaded_logits), top_n_predictions),\n",
    "            feed_dict={loaded_x: random_test_features, loaded_y: random_test_labels, loaded_keep_prob: 1.0})\n",
    "        helper.display_image_predictions(random_test_features, random_test_labels, random_test_predictions)\n",
    "\n",
    "\n",
    "test_model()"
   ]
  },
  {
   "cell_type": "markdown",
   "metadata": {
    "collapsed": true,
    "deletable": true,
    "editable": true
   },
   "source": [
    "\n",
    "# Why 50-70% Accuracy?\n",
    "You might be wondering why you can't get an accuracy any higher. First things first, 50% isn't bad for a simple CNN. Pure guessing would get you 10% accuracy. However, you might notice people are getting scores well above 70%. That's because we haven't taught you all there is to know about neural networks. We still need to cover a few more techniques."
   ]
  },
  {
   "cell_type": "markdown",
   "metadata": {},
   "source": [
    "# Submitting This Project\n",
    "When submitting this project, make sure to run all the cells before saving the notebook. Save the notebook file as \"dlnd_image_classification.ipynb\" and save it as a HTML file under \"File\" -> \"Download as\". Include the \"helper.py\" and \"problem_unittests.py\" files in your submission."
   ]
  },
  {
   "cell_type": "code",
   "execution_count": null,
   "metadata": {
    "collapsed": true
   },
   "outputs": [],
   "source": []
  }
 ],
 "metadata": {
  "kernelspec": {
   "display_name": "Python 3",
   "language": "python",
   "name": "python3"
  },
  "language_info": {
   "codemirror_mode": {
    "name": "ipython",
    "version": 3
   },
   "file_extension": ".py",
   "mimetype": "text/x-python",
   "name": "python",
   "nbconvert_exporter": "python",
   "pygments_lexer": "ipython3",
   "version": "3.5.2"
  },
  "widgets": {
   "state": {},
   "version": "1.1.2"
  }
 },
 "nbformat": 4,
 "nbformat_minor": 0
}
